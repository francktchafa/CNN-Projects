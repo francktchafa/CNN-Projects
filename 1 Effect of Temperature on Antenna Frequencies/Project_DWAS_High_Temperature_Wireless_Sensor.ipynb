{
 "cells": [
  {
   "cell_type": "code",
   "execution_count": 3,
   "id": "f7a6814b-1964-4aa6-95c5-64705e37a634",
   "metadata": {},
   "outputs": [],
   "source": [
    "# Linear regression: Study of the effect of temperature on the antenna frequency of a high-temperature wireless MSPA\n",
    "# Publication: Far-Field Interrogation of Microstrip Patch Antenna for Temperature Sensing Without Electronics"
   ]
  },
  {
   "cell_type": "code",
   "execution_count": 2,
   "id": "46817d26-b7ca-4162-904d-41b7ca8861b3",
   "metadata": {
    "ExecuteTime": {
     "end_time": "2025-02-12T19:47:17.724336Z",
     "start_time": "2025-02-12T19:47:15.611625Z"
    }
   },
   "outputs": [],
   "source": [
    "import numpy as np\n",
    "import pandas as pd\n",
    "import matplotlib.pyplot as plt\n",
    "from sklearn.model_selection import train_test_split\n",
    "from sklearn.linear_model import LinearRegression\n",
    "from sklearn.metrics import mean_squared_error as mse\n",
    "np.set_printoptions(precision=3)\n",
    "%matplotlib inline"
   ]
  },
  {
   "cell_type": "code",
   "execution_count": 3,
   "id": "62ab2b13-a96f-4b7a-9489-3f4f66524b4b",
   "metadata": {
    "ExecuteTime": {
     "end_time": "2025-02-12T19:47:19.625828Z",
     "start_time": "2025-02-12T19:47:19.620442Z"
    }
   },
   "outputs": [],
   "source": [
    "# Load data from excel file"
   ]
  },
  {
   "cell_type": "code",
   "execution_count": 4,
   "id": "5911fa45-be94-4047-8253-dfd221f5920d",
   "metadata": {
    "ExecuteTime": {
     "end_time": "2025-02-12T19:47:20.329181Z",
     "start_time": "2025-02-12T19:47:20.273773Z"
    }
   },
   "outputs": [],
   "source": [
    "df = pd.read_csv('dT_dff_data2.csv')"
   ]
  },
  {
   "cell_type": "code",
   "execution_count": 5,
   "id": "3a057fdf-1aa6-44a7-b849-b09cef7990db",
   "metadata": {
    "ExecuteTime": {
     "end_time": "2025-02-12T19:47:21.213435Z",
     "start_time": "2025-02-12T19:47:21.190980Z"
    }
   },
   "outputs": [
    {
     "data": {
      "text/plain": "   Temperature_change  Normalized_frequency\n0                 0.0           1029.660103\n1                 0.0            997.548335\n2                 0.0            990.042960\n3                 0.0           1019.622979\n4                 0.0           1019.115653",
      "text/html": "<div>\n<style scoped>\n    .dataframe tbody tr th:only-of-type {\n        vertical-align: middle;\n    }\n\n    .dataframe tbody tr th {\n        vertical-align: top;\n    }\n\n    .dataframe thead th {\n        text-align: right;\n    }\n</style>\n<table border=\"1\" class=\"dataframe\">\n  <thead>\n    <tr style=\"text-align: right;\">\n      <th></th>\n      <th>Temperature_change</th>\n      <th>Normalized_frequency</th>\n    </tr>\n  </thead>\n  <tbody>\n    <tr>\n      <th>0</th>\n      <td>0.0</td>\n      <td>1029.660103</td>\n    </tr>\n    <tr>\n      <th>1</th>\n      <td>0.0</td>\n      <td>997.548335</td>\n    </tr>\n    <tr>\n      <th>2</th>\n      <td>0.0</td>\n      <td>990.042960</td>\n    </tr>\n    <tr>\n      <th>3</th>\n      <td>0.0</td>\n      <td>1019.622979</td>\n    </tr>\n    <tr>\n      <th>4</th>\n      <td>0.0</td>\n      <td>1019.115653</td>\n    </tr>\n  </tbody>\n</table>\n</div>"
     },
     "execution_count": 5,
     "metadata": {},
     "output_type": "execute_result"
    }
   ],
   "source": [
    "df.head(5)"
   ]
  },
  {
   "cell_type": "code",
   "execution_count": 6,
   "id": "a354bfb1-4eb7-418d-b933-206f1235eb8a",
   "metadata": {
    "ExecuteTime": {
     "end_time": "2025-02-12T19:47:22.370309Z",
     "start_time": "2025-02-12T19:47:22.329775Z"
    }
   },
   "outputs": [
    {
     "name": "stdout",
     "output_type": "stream",
     "text": [
      "<class 'pandas.core.frame.DataFrame'>\n",
      "RangeIndex: 26000 entries, 0 to 25999\n",
      "Data columns (total 2 columns):\n",
      " #   Column                Non-Null Count  Dtype  \n",
      "---  ------                --------------  -----  \n",
      " 0   Temperature_change    26000 non-null  float64\n",
      " 1   Normalized_frequency  26000 non-null  float64\n",
      "dtypes: float64(2)\n",
      "memory usage: 406.4 KB\n"
     ]
    }
   ],
   "source": [
    "df.info()"
   ]
  },
  {
   "cell_type": "code",
   "execution_count": 7,
   "id": "cd125381-a23e-49db-bc6f-96dd90ce5e75",
   "metadata": {
    "ExecuteTime": {
     "end_time": "2025-02-12T19:47:23.187748Z",
     "start_time": "2025-02-12T19:47:23.178048Z"
    }
   },
   "outputs": [
    {
     "data": {
      "text/plain": "       Temperature_change  Normalized_frequency\ncount        26000.000000          26000.000000\nmean           125.001159          25019.842510\nstd             74.999904          14409.747131\nmin              0.000000            937.737704\n25%             60.000809          12531.263458\n50%            125.162490          25050.809625\n75%            189.962170          37500.845683\nmax            250.042283          49044.135040",
      "text/html": "<div>\n<style scoped>\n    .dataframe tbody tr th:only-of-type {\n        vertical-align: middle;\n    }\n\n    .dataframe tbody tr th {\n        vertical-align: top;\n    }\n\n    .dataframe thead th {\n        text-align: right;\n    }\n</style>\n<table border=\"1\" class=\"dataframe\">\n  <thead>\n    <tr style=\"text-align: right;\">\n      <th></th>\n      <th>Temperature_change</th>\n      <th>Normalized_frequency</th>\n    </tr>\n  </thead>\n  <tbody>\n    <tr>\n      <th>count</th>\n      <td>26000.000000</td>\n      <td>26000.000000</td>\n    </tr>\n    <tr>\n      <th>mean</th>\n      <td>125.001159</td>\n      <td>25019.842510</td>\n    </tr>\n    <tr>\n      <th>std</th>\n      <td>74.999904</td>\n      <td>14409.747131</td>\n    </tr>\n    <tr>\n      <th>min</th>\n      <td>0.000000</td>\n      <td>937.737704</td>\n    </tr>\n    <tr>\n      <th>25%</th>\n      <td>60.000809</td>\n      <td>12531.263458</td>\n    </tr>\n    <tr>\n      <th>50%</th>\n      <td>125.162490</td>\n      <td>25050.809625</td>\n    </tr>\n    <tr>\n      <th>75%</th>\n      <td>189.962170</td>\n      <td>37500.845683</td>\n    </tr>\n    <tr>\n      <th>max</th>\n      <td>250.042283</td>\n      <td>49044.135040</td>\n    </tr>\n  </tbody>\n</table>\n</div>"
     },
     "execution_count": 7,
     "metadata": {},
     "output_type": "execute_result"
    }
   ],
   "source": [
    "df.describe()"
   ]
  },
  {
   "cell_type": "code",
   "execution_count": 8,
   "id": "eb393d13-4079-46de-b97a-df510721fb83",
   "metadata": {
    "ExecuteTime": {
     "end_time": "2025-02-12T19:47:24.001560Z",
     "start_time": "2025-02-12T19:47:23.991620Z"
    }
   },
   "outputs": [],
   "source": [
    "dT = df.Temperature_change  # Temperature change in degree C\n",
    "dff = df.Normalized_frequency  # Normalized antenna frequency shift"
   ]
  },
  {
   "cell_type": "code",
   "execution_count": 9,
   "id": "e64433ea-7240-4022-85b5-649cd9f75a49",
   "metadata": {
    "ExecuteTime": {
     "end_time": "2025-02-12T19:47:24.771872Z",
     "start_time": "2025-02-12T19:47:24.765926Z"
    }
   },
   "outputs": [
    {
     "data": {
      "text/plain": "(26000,)"
     },
     "execution_count": 9,
     "metadata": {},
     "output_type": "execute_result"
    }
   ],
   "source": [
    "dT.shape"
   ]
  },
  {
   "cell_type": "code",
   "execution_count": 10,
   "id": "1ab1e5d4-84ca-4544-af98-de3987eca4a1",
   "metadata": {
    "ExecuteTime": {
     "end_time": "2025-02-12T19:47:25.313980Z",
     "start_time": "2025-02-12T19:47:25.310149Z"
    }
   },
   "outputs": [
    {
     "data": {
      "text/plain": "(26000,)"
     },
     "execution_count": 10,
     "metadata": {},
     "output_type": "execute_result"
    }
   ],
   "source": [
    "dff.shape"
   ]
  },
  {
   "cell_type": "code",
   "execution_count": 11,
   "id": "5321b323-e8b4-4c3c-a36c-687d17fc9761",
   "metadata": {
    "ExecuteTime": {
     "end_time": "2025-02-12T19:47:26.183657Z",
     "start_time": "2025-02-12T19:47:26.178311Z"
    }
   },
   "outputs": [],
   "source": [
    "x = np.array(dT).reshape(-1, 1)  # Input data\n",
    "y = np.array(dff).reshape(-1, 1)  # Target"
   ]
  },
  {
   "cell_type": "code",
   "execution_count": 12,
   "id": "e64b7ecb-60fc-4367-a360-a97ac444a239",
   "metadata": {
    "ExecuteTime": {
     "end_time": "2025-02-12T19:47:27.434233Z",
     "start_time": "2025-02-12T19:47:27.247067Z"
    }
   },
   "outputs": [
    {
     "data": {
      "text/plain": "<Figure size 640x480 with 1 Axes>",
      "image/png": "[encoded data removed]"
     },
     "metadata": {},
     "output_type": "display_data"
    }
   ],
   "source": [
    "# Plotting dataset for visualization\n",
    "fig1, ax = plt.subplots()\n",
    "ax.scatter(x, y, color='black', marker='o', s=10, label='data')\n",
    "ax.set_xlabel('Norm. temp. ($^o$C)')\n",
    "ax.set_ylabel('Norm. freq.')\n",
    "ax.grid()"
   ]
  },
  {
   "cell_type": "code",
   "execution_count": 22,
   "id": "a3000d0a-f641-45b7-9ceb-fe6e791588fa",
   "metadata": {
    "ExecuteTime": {
     "end_time": "2025-02-12T20:39:36.666426Z",
     "start_time": "2025-02-12T20:39:36.649307Z"
    }
   },
   "outputs": [],
   "source": [
    "# Note: There is a linear relationship between input and target, and this agrees with domain knowledge\n",
    "# Split the data into training and testing sets\n",
    "x_train, x_test, y_train, y_test = train_test_split(x, y, train_size=0.8, random_state=42)  "
   ]
  },
  {
   "cell_type": "code",
   "execution_count": 23,
   "id": "88c8fb9b-7b63-4fcd-92cc-b082230b2f28",
   "metadata": {
    "ExecuteTime": {
     "end_time": "2025-02-12T20:39:37.376160Z",
     "start_time": "2025-02-12T20:39:37.370680Z"
    }
   },
   "outputs": [
    {
     "data": {
      "text/plain": "(20800, 1)"
     },
     "execution_count": 23,
     "metadata": {},
     "output_type": "execute_result"
    }
   ],
   "source": [
    "x_train.shape"
   ]
  },
  {
   "cell_type": "code",
   "execution_count": 24,
   "id": "0eba458e-26ff-4046-b5b7-5b8f24b6974d",
   "metadata": {
    "ExecuteTime": {
     "end_time": "2025-02-12T20:39:37.857804Z",
     "start_time": "2025-02-12T20:39:37.850861Z"
    }
   },
   "outputs": [
    {
     "data": {
      "text/plain": "(5200, 1)"
     },
     "execution_count": 24,
     "metadata": {},
     "output_type": "execute_result"
    }
   ],
   "source": [
    "x_test.shape"
   ]
  },
  {
   "cell_type": "code",
   "execution_count": 25,
   "id": "ac8b19b0-b0e8-4e32-94d4-7e929bc0c2f8",
   "metadata": {
    "ExecuteTime": {
     "end_time": "2025-02-12T20:39:38.652312Z",
     "start_time": "2025-02-12T20:39:38.640999Z"
    }
   },
   "outputs": [
    {
     "data": {
      "text/plain": "LinearRegression()",
      "text/html": "<style>#sk-container-id-2 {color: black;}#sk-container-id-2 pre{padding: 0;}#sk-container-id-2 div.sk-toggleable {background-color: white;}#sk-container-id-2 label.sk-toggleable__label {cursor: pointer;display: block;width: 100%;margin-bottom: 0;padding: 0.3em;box-sizing: border-box;text-align: center;}#sk-container-id-2 label.sk-toggleable__label-arrow:before {content: \"▸\";float: left;margin-right: 0.25em;color: #696969;}#sk-container-id-2 label.sk-toggleable__label-arrow:hover:before {color: black;}#sk-container-id-2 div.sk-estimator:hover label.sk-toggleable__label-arrow:before {color: black;}#sk-container-id-2 div.sk-toggleable__content {max-height: 0;max-width: 0;overflow: hidden;text-align: left;background-color: #f0f8ff;}#sk-container-id-2 div.sk-toggleable__content pre {margin: 0.2em;color: black;border-radius: 0.25em;background-color: #f0f8ff;}#sk-container-id-2 input.sk-toggleable__control:checked~div.sk-toggleable__content {max-height: 200px;max-width: 100%;overflow: auto;}#sk-container-id-2 input.sk-toggleable__control:checked~label.sk-toggleable__label-arrow:before {content: \"▾\";}#sk-container-id-2 div.sk-estimator input.sk-toggleable__control:checked~label.sk-toggleable__label {background-color: #d4ebff;}#sk-container-id-2 div.sk-label input.sk-toggleable__control:checked~label.sk-toggleable__label {background-color: #d4ebff;}#sk-container-id-2 input.sk-hidden--visually {border: 0;clip: rect(1px 1px 1px 1px);clip: rect(1px, 1px, 1px, 1px);height: 1px;margin: -1px;overflow: hidden;padding: 0;position: absolute;width: 1px;}#sk-container-id-2 div.sk-estimator {font-family: monospace;background-color: #f0f8ff;border: 1px dotted black;border-radius: 0.25em;box-sizing: border-box;margin-bottom: 0.5em;}#sk-container-id-2 div.sk-estimator:hover {background-color: #d4ebff;}#sk-container-id-2 div.sk-parallel-item::after {content: \"\";width: 100%;border-bottom: 1px solid gray;flex-grow: 1;}#sk-container-id-2 div.sk-label:hover label.sk-toggleable__label {background-color: #d4ebff;}#sk-container-id-2 div.sk-serial::before {content: \"\";position: absolute;border-left: 1px solid gray;box-sizing: border-box;top: 0;bottom: 0;left: 50%;z-index: 0;}#sk-container-id-2 div.sk-serial {display: flex;flex-direction: column;align-items: center;background-color: white;padding-right: 0.2em;padding-left: 0.2em;position: relative;}#sk-container-id-2 div.sk-item {position: relative;z-index: 1;}#sk-container-id-2 div.sk-parallel {display: flex;align-items: stretch;justify-content: center;background-color: white;position: relative;}#sk-container-id-2 div.sk-item::before, #sk-container-id-2 div.sk-parallel-item::before {content: \"\";position: absolute;border-left: 1px solid gray;box-sizing: border-box;top: 0;bottom: 0;left: 50%;z-index: -1;}#sk-container-id-2 div.sk-parallel-item {display: flex;flex-direction: column;z-index: 1;position: relative;background-color: white;}#sk-container-id-2 div.sk-parallel-item:first-child::after {align-self: flex-end;width: 50%;}#sk-container-id-2 div.sk-parallel-item:last-child::after {align-self: flex-start;width: 50%;}#sk-container-id-2 div.sk-parallel-item:only-child::after {width: 0;}#sk-container-id-2 div.sk-dashed-wrapped {border: 1px dashed gray;margin: 0 0.4em 0.5em 0.4em;box-sizing: border-box;padding-bottom: 0.4em;background-color: white;}#sk-container-id-2 div.sk-label label {font-family: monospace;font-weight: bold;display: inline-block;line-height: 1.2em;}#sk-container-id-2 div.sk-label-container {text-align: center;}#sk-container-id-2 div.sk-container {/* jupyter's `normalize.less` sets `[hidden] { display: none; }` but bootstrap.min.css set `[hidden] { display: none !important; }` so we also need the `!important` here to be able to override the default hidden behavior on the sphinx rendered scikit-learn.org. See: https://github.com/scikit-learn/scikit-learn/issues/21755 */display: inline-block !important;position: relative;}#sk-container-id-2 div.sk-text-repr-fallback {display: none;}</style><div id=\"sk-container-id-2\" class=\"sk-top-container\"><div class=\"sk-text-repr-fallback\"><pre>LinearRegression()</pre><b>In a Jupyter environment, please rerun this cell to show the HTML representation or trust the notebook. <br />On GitHub, the HTML representation is unable to render, please try loading this page with nbviewer.org.</b></div><div class=\"sk-container\" hidden><div class=\"sk-item\"><div class=\"sk-estimator sk-toggleable\"><input class=\"sk-toggleable__control sk-hidden--visually\" id=\"sk-estimator-id-2\" type=\"checkbox\" checked><label for=\"sk-estimator-id-2\" class=\"sk-toggleable__label sk-toggleable__label-arrow\">LinearRegression</label><div class=\"sk-toggleable__content\"><pre>LinearRegression()</pre></div></div></div></div></div>"
     },
     "execution_count": 25,
     "metadata": {},
     "output_type": "execute_result"
    }
   ],
   "source": [
    "# Training the model\n",
    "model = LinearRegression()\n",
    "model.fit(x_train, y_train)\n"
   ]
  },
  {
   "cell_type": "code",
   "execution_count": 26,
   "id": "732004c1-e9ea-496f-8df9-841e63370c7c",
   "metadata": {
    "ExecuteTime": {
     "end_time": "2025-02-12T20:39:40.166936Z",
     "start_time": "2025-02-12T20:39:40.161270Z"
    }
   },
   "outputs": [
    {
     "name": "stdout",
     "output_type": "stream",
     "text": [
      "Training set mean squared error:  12.656\n",
      "Test set mean squared error:  11.267\n",
      "The regression coefficient is 192.130 and the intercept is 1003.400\n",
      "Model Score: 0.9999999450268487\n"
     ]
    }
   ],
   "source": [
    "print(f'Training set mean squared error: {mse(y_train, model.predict(x_train)): .3f}')\n",
    "print(f'Test set mean squared error: {mse(y_test, model.predict(x_test)): .3f}')\n",
    "print(f'The regression coefficient is{model.coef_.squeeze(): .3f} and '\n",
    "      f'the intercept is{model.intercept_.squeeze(): .3f}')\n",
    "print('Model Score: ' + str(model.score(x_test, y_test)))  "
   ]
  },
  {
   "cell_type": "code",
   "execution_count": null,
   "id": "38de67ac-f696-41d1-b0e4-db618dc41943",
   "metadata": {},
   "outputs": [],
   "source": []
  }
 ],
 "metadata": {
  "kernelspec": {
   "display_name": "Python 3 (ipykernel)",
   "language": "python",
   "name": "python3"
  },
  "language_info": {
   "codemirror_mode": {
    "name": "ipython",
    "version": 3
   },
   "file_extension": ".py",
   "mimetype": "text/x-python",
   "name": "python",
   "nbconvert_exporter": "python",
   "pygments_lexer": "ipython3",
   "version": "3.12.0"
  }
 },
 "nbformat": 4,
 "nbformat_minor": 5
}
