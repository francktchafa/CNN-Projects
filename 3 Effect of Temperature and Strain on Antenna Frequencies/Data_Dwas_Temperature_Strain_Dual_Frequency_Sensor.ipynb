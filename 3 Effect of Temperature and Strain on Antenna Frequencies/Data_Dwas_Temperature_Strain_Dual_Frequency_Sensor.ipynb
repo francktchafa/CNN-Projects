{
 "cells": [
  {
   "cell_type": "code",
   "execution_count": 1,
   "id": "98fea19a-ad66-4857-923b-874cdc39dc93",
   "metadata": {
    "ExecuteTime": {
     "end_time": "2025-02-17T05:00:42.259863Z",
     "start_time": "2025-02-17T05:00:41.358202Z"
    }
   },
   "outputs": [],
   "source": [
    "\"\"\"\n",
    "Study of the effect of temperature and strain on the antenna frequencies of a high-temperature\n",
    "microstrip patch antenna (MSPA) sensor\n",
    "PUBLICATION: Microstrip patch antenna for simultaneous strain and temperature sensing\n",
    "\"\"\"\n",
    "\n",
    "import numpy as np\n",
    "import pandas as pd\n",
    "import matplotlib.pyplot as plt\n",
    "from sklearn.preprocessing import StandardScaler\n",
    "from sklearn.model_selection import train_test_split\n",
    "from sklearn.multioutput import MultiOutputRegressor\n",
    "from sklearn.linear_model import LinearRegression\n",
    "from sklearn.metrics import mean_squared_error as mse\n",
    "from sklearn.metrics import r2_score as r2\n",
    "np.set_printoptions(precision=6)\n",
    "np.random.seed(42)\n",
    "%matplotlib inline"
   ]
  },
  {
   "cell_type": "code",
   "execution_count": 2,
   "id": "6ef97ca5-1e1f-420c-8e5e-dd4696611817",
   "metadata": {
    "ExecuteTime": {
     "end_time": "2025-02-17T05:00:43.507481Z",
     "start_time": "2025-02-17T05:00:43.482199Z"
    }
   },
   "outputs": [],
   "source": [
    "# LOAD DATA FROM THE EXCEL\n",
    "df = pd.read_csv('dT_s_dff_data.csv')"
   ]
  },
  {
   "cell_type": "code",
   "execution_count": 3,
   "id": "7e69d7ed-1e35-4b4d-ba38-c5f57ebf6199",
   "metadata": {
    "ExecuteTime": {
     "end_time": "2025-02-17T05:00:44.545362Z",
     "start_time": "2025-02-17T05:00:44.527702Z"
    }
   },
   "outputs": [
    {
     "name": "stdout",
     "output_type": "stream",
     "text": [
      "<class 'pandas.core.frame.DataFrame'>\n",
      "RangeIndex: 56000 entries, 0 to 55999\n",
      "Data columns (total 4 columns):\n",
      " #   Column                  Non-Null Count  Dtype  \n",
      "---  ------                  --------------  -----  \n",
      " 0   Temperature_change      56000 non-null  float64\n",
      " 1   Strain_measurement      56000 non-null  float64\n",
      " 2   Normalized_frequency10  56000 non-null  float64\n",
      " 3   Normalized_frequency01  56000 non-null  float64\n",
      "dtypes: float64(4)\n",
      "memory usage: 1.7 MB\n"
     ]
    }
   ],
   "source": [
    "df.info()"
   ]
  },
  {
   "cell_type": "code",
   "execution_count": 4,
   "id": "eb5bacb6-75b5-4cc8-bd3f-0e721b92ee10",
   "metadata": {
    "ExecuteTime": {
     "end_time": "2025-02-17T05:00:45.766838Z",
     "start_time": "2025-02-17T05:00:45.752391Z"
    }
   },
   "outputs": [
    {
     "data": {
      "text/plain": "   Temperature_change  Strain_measurement  Normalized_frequency10  \\\n0           -0.141924            0.157246               -5.418503   \n1            0.131695            0.008839                4.923361   \n2           -0.089494            0.238904               -3.511231   \n3            0.001542           -1.009519                0.740149   \n4            0.160066            0.181621                5.868469   \n\n   Normalized_frequency01  \n0               -5.678914  \n1                5.336145  \n2               -3.520846  \n3               -0.371845  \n4                6.559324  ",
      "text/html": "<div>\n<style scoped>\n    .dataframe tbody tr th:only-of-type {\n        vertical-align: middle;\n    }\n\n    .dataframe tbody tr th {\n        vertical-align: top;\n    }\n\n    .dataframe thead th {\n        text-align: right;\n    }\n</style>\n<table border=\"1\" class=\"dataframe\">\n  <thead>\n    <tr style=\"text-align: right;\">\n      <th></th>\n      <th>Temperature_change</th>\n      <th>Strain_measurement</th>\n      <th>Normalized_frequency10</th>\n      <th>Normalized_frequency01</th>\n    </tr>\n  </thead>\n  <tbody>\n    <tr>\n      <th>0</th>\n      <td>-0.141924</td>\n      <td>0.157246</td>\n      <td>-5.418503</td>\n      <td>-5.678914</td>\n    </tr>\n    <tr>\n      <th>1</th>\n      <td>0.131695</td>\n      <td>0.008839</td>\n      <td>4.923361</td>\n      <td>5.336145</td>\n    </tr>\n    <tr>\n      <th>2</th>\n      <td>-0.089494</td>\n      <td>0.238904</td>\n      <td>-3.511231</td>\n      <td>-3.520846</td>\n    </tr>\n    <tr>\n      <th>3</th>\n      <td>0.001542</td>\n      <td>-1.009519</td>\n      <td>0.740149</td>\n      <td>-0.371845</td>\n    </tr>\n    <tr>\n      <th>4</th>\n      <td>0.160066</td>\n      <td>0.181621</td>\n      <td>5.868469</td>\n      <td>6.559324</td>\n    </tr>\n  </tbody>\n</table>\n</div>"
     },
     "execution_count": 4,
     "metadata": {},
     "output_type": "execute_result"
    }
   ],
   "source": [
    "df.head(5)"
   ]
  },
  {
   "cell_type": "code",
   "execution_count": 5,
   "id": "68e516d3-f47f-480e-bec6-b807aef7702f",
   "metadata": {
    "ExecuteTime": {
     "end_time": "2025-02-17T05:00:47.340510Z",
     "start_time": "2025-02-17T05:00:47.322058Z"
    }
   },
   "outputs": [
    {
     "data": {
      "text/plain": "       Temperature_change  Strain_measurement  Normalized_frequency10  \\\ncount        56000.000000        56000.000000            56000.000000   \nmean            28.286053          175.000195              940.446521   \nstd             18.014296          114.566054              678.705769   \nmin             -0.696728           -1.725203             -261.883664   \n25%             11.063125           86.362758              361.864960   \n50%             29.000430          174.897738              966.944722   \n75%             45.938593          263.240181             1536.371452   \nmax             55.739961          351.482352             2083.396170   \n\n       Normalized_frequency01  \ncount            56000.000000  \nmean              1220.598614  \nstd                731.068946  \nmin                -25.563465  \n25%                563.259219  \n50%               1249.464334  \n75%               1894.041172  \nmax               2398.607469  ",
      "text/html": "<div>\n<style scoped>\n    .dataframe tbody tr th:only-of-type {\n        vertical-align: middle;\n    }\n\n    .dataframe tbody tr th {\n        vertical-align: top;\n    }\n\n    .dataframe thead th {\n        text-align: right;\n    }\n</style>\n<table border=\"1\" class=\"dataframe\">\n  <thead>\n    <tr style=\"text-align: right;\">\n      <th></th>\n      <th>Temperature_change</th>\n      <th>Strain_measurement</th>\n      <th>Normalized_frequency10</th>\n      <th>Normalized_frequency01</th>\n    </tr>\n  </thead>\n  <tbody>\n    <tr>\n      <th>count</th>\n      <td>56000.000000</td>\n      <td>56000.000000</td>\n      <td>56000.000000</td>\n      <td>56000.000000</td>\n    </tr>\n    <tr>\n      <th>mean</th>\n      <td>28.286053</td>\n      <td>175.000195</td>\n      <td>940.446521</td>\n      <td>1220.598614</td>\n    </tr>\n    <tr>\n      <th>std</th>\n      <td>18.014296</td>\n      <td>114.566054</td>\n      <td>678.705769</td>\n      <td>731.068946</td>\n    </tr>\n    <tr>\n      <th>min</th>\n      <td>-0.696728</td>\n      <td>-1.725203</td>\n      <td>-261.883664</td>\n      <td>-25.563465</td>\n    </tr>\n    <tr>\n      <th>25%</th>\n      <td>11.063125</td>\n      <td>86.362758</td>\n      <td>361.864960</td>\n      <td>563.259219</td>\n    </tr>\n    <tr>\n      <th>50%</th>\n      <td>29.000430</td>\n      <td>174.897738</td>\n      <td>966.944722</td>\n      <td>1249.464334</td>\n    </tr>\n    <tr>\n      <th>75%</th>\n      <td>45.938593</td>\n      <td>263.240181</td>\n      <td>1536.371452</td>\n      <td>1894.041172</td>\n    </tr>\n    <tr>\n      <th>max</th>\n      <td>55.739961</td>\n      <td>351.482352</td>\n      <td>2083.396170</td>\n      <td>2398.607469</td>\n    </tr>\n  </tbody>\n</table>\n</div>"
     },
     "execution_count": 5,
     "metadata": {},
     "output_type": "execute_result"
    }
   ],
   "source": [
    "df.describe()"
   ]
  },
  {
   "cell_type": "code",
   "execution_count": 6,
   "id": "9b05bd79-bed7-4038-aacb-c81a93030f1c",
   "metadata": {
    "ExecuteTime": {
     "end_time": "2025-02-17T05:00:50.549174Z",
     "start_time": "2025-02-17T05:00:50.539668Z"
    }
   },
   "outputs": [],
   "source": [
    "# Note: You may need insider info to handle this dataset. Here is what you need to know.\n",
    "# These are data from a dual-frequency antenna sensor. The inputs/measurands are the temperatures and\n",
    "# the strain measurements. The antenna frequencies are simply the outputs/targets."
   ]
  },
  {
   "cell_type": "code",
   "execution_count": 7,
   "id": "b7932456-f826-4e28-b4f6-1752717eab3e",
   "metadata": {
    "ExecuteTime": {
     "end_time": "2025-02-17T05:00:51.516716Z",
     "start_time": "2025-02-17T05:00:51.512743Z"
    }
   },
   "outputs": [],
   "source": [
    "# Building input (X) and target/output (Y)\n",
    "dT = df.Temperature_change\n",
    "s = df.Strain_measurement\n",
    "dff10 = df.Normalized_frequency10\n",
    "dff01 = df.Normalized_frequency01\n",
    "Y = np.c_[dff10, dff01]  # Targets\n",
    "X = np.c_[dT, s]  # Features"
   ]
  },
  {
   "cell_type": "code",
   "execution_count": 8,
   "id": "360dc209-245a-42a0-9af9-25c1f85a131e",
   "metadata": {
    "ExecuteTime": {
     "end_time": "2025-02-17T05:00:52.545344Z",
     "start_time": "2025-02-17T05:00:52.542277Z"
    }
   },
   "outputs": [
    {
     "name": "stdout",
     "output_type": "stream",
     "text": [
      "The input shape:  (56000, 2)\n",
      "The output shape:  (56000, 2)\n"
     ]
    }
   ],
   "source": [
    "print(f\"The input shape:  {X.shape}\")\n",
    "print(f\"The output shape:  {Y.shape}\")"
   ]
  },
  {
   "cell_type": "code",
   "execution_count": 9,
   "id": "59b90509-4d67-4c1a-8167-09cf84a4b078",
   "metadata": {
    "ExecuteTime": {
     "end_time": "2025-02-17T05:00:53.699617Z",
     "start_time": "2025-02-17T05:00:53.531400Z"
    }
   },
   "outputs": [
    {
     "data": {
      "text/plain": "<Figure size 640x480 with 4 Axes>",
      "image/png": "[encoded data removed]"
     },
     "metadata": {},
     "output_type": "display_data"
    }
   ],
   "source": [
    "# Visualization\n",
    "fig, ax = plt.subplots(2, 2, sharey=True)\n",
    "colors = ['#1f77b4', '#ff7f0e']\n",
    "\n",
    "for j in range(2):\n",
    "    for i, a in enumerate(ax[j]):\n",
    "        a.plot(X[:, i], Y[:, j], '.', markersize=0.5, color=colors[j])\n",
    "\n",
    "ax[1, 0].set_xlabel('Temp. change (°C)')\n",
    "ax[1, 1].set_xlabel('Strain (μe)')\n",
    "ax[0, 0].set_ylabel('Norm. freq.10')\n",
    "ax[1, 0].set_ylabel('Norm. freq.01')\n",
    "\n",
    "fig.suptitle('Normalized frequencies vs. strain and temp. change', weight='bold', fontsize=12)\n",
    "fig.subplots_adjust(wspace=0.1, hspace=0.3)"
   ]
  },
  {
   "cell_type": "code",
   "execution_count": 10,
   "id": "5cb57883-ed58-4c80-b2a0-7870c75fde16",
   "metadata": {
    "ExecuteTime": {
     "end_time": "2025-02-17T05:00:55.635911Z",
     "start_time": "2025-02-17T05:00:55.633261Z"
    }
   },
   "outputs": [],
   "source": [
    "# Note: Both targets vary linearly with temperature and strain change. The ranges for the inputs significantly differ. We will have to do feature scaling."
   ]
  },
  {
   "cell_type": "code",
   "execution_count": 11,
   "id": "8bca3ac9-5088-44b2-ba32-6e5ef5c2ff64",
   "metadata": {
    "ExecuteTime": {
     "end_time": "2025-02-17T05:00:56.867822Z",
     "start_time": "2025-02-17T05:00:56.856821Z"
    }
   },
   "outputs": [],
   "source": [
    "# SPLIT DATA INTO TRAINING AND TEST DATASET \n",
    "X_train, X_test, Y_train, Y_test = train_test_split(X, Y, train_size=0.8, random_state=42)"
   ]
  },
  {
   "cell_type": "code",
   "execution_count": 12,
   "id": "53b4359b-710a-42be-b10c-74e6e6ffd0bb",
   "metadata": {
    "ExecuteTime": {
     "end_time": "2025-02-17T05:00:57.582400Z",
     "start_time": "2025-02-17T05:00:57.576246Z"
    }
   },
   "outputs": [],
   "source": [
    "scaler = StandardScaler()\n",
    "X_train_norm = scaler.fit_transform(X_train)\n",
    "X_test_norm = scaler.transform(X_test)  # Apply the same transformation to test data"
   ]
  },
  {
   "cell_type": "code",
   "execution_count": 13,
   "id": "87f2b1df-832a-4f12-962b-29d8af5eb4f9",
   "metadata": {
    "ExecuteTime": {
     "end_time": "2025-02-17T05:00:58.110354Z",
     "start_time": "2025-02-17T05:00:58.106404Z"
    }
   },
   "outputs": [
    {
     "name": "stdout",
     "output_type": "stream",
     "text": [
      "Peak to peak before normalization:[ 56.436689 353.207556]\n",
      "Peak to after normalization:[3.135763 3.08324 ]\n"
     ]
    }
   ],
   "source": [
    "print(f'Peak to peak before normalization:{np.ptp(X_train, axis=0)}')\n",
    "print(f'Peak to after normalization:{np.ptp(X_train_norm, axis=0)}')"
   ]
  },
  {
   "cell_type": "code",
   "execution_count": 14,
   "id": "2292618f-88bb-4b3e-8a30-a5a02bff2ea8",
   "metadata": {
    "ExecuteTime": {
     "end_time": "2025-02-17T05:00:58.919244Z",
     "start_time": "2025-02-17T05:00:58.804512Z"
    }
   },
   "outputs": [
    {
     "data": {
      "text/plain": "<Figure size 640x480 with 2 Axes>",
      "image/png": "[encoded data removed]"
     },
     "metadata": {},
     "output_type": "display_data"
    }
   ],
   "source": [
    "# Plot of features before and after scaling\n",
    "fig, ax = plt.subplots(1, 2)\n",
    "ax[0].scatter(X_train[:, 0], X_train[:, 1], s=2)\n",
    "ax[1].scatter(X_train_norm[:, 0], X_train_norm[:, 1], s=2)\n",
    "ax[0].set_title('Unnormalized')\n",
    "ax[1].set_title('Normalized')\n",
    "ax[0].set_xticks(np.arange(0, 65, 20))\n",
    "ax[1].set_xticks(np.arange(-1.5, 2, 1))\n",
    "fig.suptitle('Distribution of features before after normalization', weight='bold', fontsize=12)\n",
    "plt.show()"
   ]
  },
  {
   "cell_type": "code",
   "execution_count": 15,
   "id": "8ac21793-91e5-4adb-a6d9-817e7deeebf7",
   "metadata": {
    "ExecuteTime": {
     "end_time": "2025-02-17T05:01:01.905998Z",
     "start_time": "2025-02-17T05:01:01.899721Z"
    }
   },
   "outputs": [],
   "source": [
    "# TRAINING THE MODEL\n",
    "# Create a MultiOutputRegressor with linear regression and trian the model\n",
    "linear = LinearRegression()\n",
    "model = MultiOutputRegressor(linear)"
   ]
  },
  {
   "cell_type": "code",
   "execution_count": 16,
   "id": "31f02ff5-07b1-4eeb-b79f-150242aa7ec7",
   "metadata": {
    "ExecuteTime": {
     "end_time": "2025-02-17T05:01:02.947191Z",
     "start_time": "2025-02-17T05:01:02.938141Z"
    }
   },
   "outputs": [
    {
     "data": {
      "text/plain": "MultiOutputRegressor(estimator=LinearRegression())",
      "text/html": "<style>#sk-container-id-1 {color: black;}#sk-container-id-1 pre{padding: 0;}#sk-container-id-1 div.sk-toggleable {background-color: white;}#sk-container-id-1 label.sk-toggleable__label {cursor: pointer;display: block;width: 100%;margin-bottom: 0;padding: 0.3em;box-sizing: border-box;text-align: center;}#sk-container-id-1 label.sk-toggleable__label-arrow:before {content: \"▸\";float: left;margin-right: 0.25em;color: #696969;}#sk-container-id-1 label.sk-toggleable__label-arrow:hover:before {color: black;}#sk-container-id-1 div.sk-estimator:hover label.sk-toggleable__label-arrow:before {color: black;}#sk-container-id-1 div.sk-toggleable__content {max-height: 0;max-width: 0;overflow: hidden;text-align: left;background-color: #f0f8ff;}#sk-container-id-1 div.sk-toggleable__content pre {margin: 0.2em;color: black;border-radius: 0.25em;background-color: #f0f8ff;}#sk-container-id-1 input.sk-toggleable__control:checked~div.sk-toggleable__content {max-height: 200px;max-width: 100%;overflow: auto;}#sk-container-id-1 input.sk-toggleable__control:checked~label.sk-toggleable__label-arrow:before {content: \"▾\";}#sk-container-id-1 div.sk-estimator input.sk-toggleable__control:checked~label.sk-toggleable__label {background-color: #d4ebff;}#sk-container-id-1 div.sk-label input.sk-toggleable__control:checked~label.sk-toggleable__label {background-color: #d4ebff;}#sk-container-id-1 input.sk-hidden--visually {border: 0;clip: rect(1px 1px 1px 1px);clip: rect(1px, 1px, 1px, 1px);height: 1px;margin: -1px;overflow: hidden;padding: 0;position: absolute;width: 1px;}#sk-container-id-1 div.sk-estimator {font-family: monospace;background-color: #f0f8ff;border: 1px dotted black;border-radius: 0.25em;box-sizing: border-box;margin-bottom: 0.5em;}#sk-container-id-1 div.sk-estimator:hover {background-color: #d4ebff;}#sk-container-id-1 div.sk-parallel-item::after {content: \"\";width: 100%;border-bottom: 1px solid gray;flex-grow: 1;}#sk-container-id-1 div.sk-label:hover label.sk-toggleable__label {background-color: #d4ebff;}#sk-container-id-1 div.sk-serial::before {content: \"\";position: absolute;border-left: 1px solid gray;box-sizing: border-box;top: 0;bottom: 0;left: 50%;z-index: 0;}#sk-container-id-1 div.sk-serial {display: flex;flex-direction: column;align-items: center;background-color: white;padding-right: 0.2em;padding-left: 0.2em;position: relative;}#sk-container-id-1 div.sk-item {position: relative;z-index: 1;}#sk-container-id-1 div.sk-parallel {display: flex;align-items: stretch;justify-content: center;background-color: white;position: relative;}#sk-container-id-1 div.sk-item::before, #sk-container-id-1 div.sk-parallel-item::before {content: \"\";position: absolute;border-left: 1px solid gray;box-sizing: border-box;top: 0;bottom: 0;left: 50%;z-index: -1;}#sk-container-id-1 div.sk-parallel-item {display: flex;flex-direction: column;z-index: 1;position: relative;background-color: white;}#sk-container-id-1 div.sk-parallel-item:first-child::after {align-self: flex-end;width: 50%;}#sk-container-id-1 div.sk-parallel-item:last-child::after {align-self: flex-start;width: 50%;}#sk-container-id-1 div.sk-parallel-item:only-child::after {width: 0;}#sk-container-id-1 div.sk-dashed-wrapped {border: 1px dashed gray;margin: 0 0.4em 0.5em 0.4em;box-sizing: border-box;padding-bottom: 0.4em;background-color: white;}#sk-container-id-1 div.sk-label label {font-family: monospace;font-weight: bold;display: inline-block;line-height: 1.2em;}#sk-container-id-1 div.sk-label-container {text-align: center;}#sk-container-id-1 div.sk-container {/* jupyter's `normalize.less` sets `[hidden] { display: none; }` but bootstrap.min.css set `[hidden] { display: none !important; }` so we also need the `!important` here to be able to override the default hidden behavior on the sphinx rendered scikit-learn.org. See: https://github.com/scikit-learn/scikit-learn/issues/21755 */display: inline-block !important;position: relative;}#sk-container-id-1 div.sk-text-repr-fallback {display: none;}</style><div id=\"sk-container-id-1\" class=\"sk-top-container\"><div class=\"sk-text-repr-fallback\"><pre>MultiOutputRegressor(estimator=LinearRegression())</pre><b>In a Jupyter environment, please rerun this cell to show the HTML representation or trust the notebook. <br />On GitHub, the HTML representation is unable to render, please try loading this page with nbviewer.org.</b></div><div class=\"sk-container\" hidden><div class=\"sk-item sk-dashed-wrapped\"><div class=\"sk-label-container\"><div class=\"sk-label sk-toggleable\"><input class=\"sk-toggleable__control sk-hidden--visually\" id=\"sk-estimator-id-1\" type=\"checkbox\" ><label for=\"sk-estimator-id-1\" class=\"sk-toggleable__label sk-toggleable__label-arrow\">MultiOutputRegressor</label><div class=\"sk-toggleable__content\"><pre>MultiOutputRegressor(estimator=LinearRegression())</pre></div></div></div><div class=\"sk-parallel\"><div class=\"sk-parallel-item\"><div class=\"sk-item\"><div class=\"sk-label-container\"><div class=\"sk-label sk-toggleable\"><input class=\"sk-toggleable__control sk-hidden--visually\" id=\"sk-estimator-id-2\" type=\"checkbox\" ><label for=\"sk-estimator-id-2\" class=\"sk-toggleable__label sk-toggleable__label-arrow\">estimator: LinearRegression</label><div class=\"sk-toggleable__content\"><pre>LinearRegression()</pre></div></div></div><div class=\"sk-serial\"><div class=\"sk-item\"><div class=\"sk-estimator sk-toggleable\"><input class=\"sk-toggleable__control sk-hidden--visually\" id=\"sk-estimator-id-3\" type=\"checkbox\" ><label for=\"sk-estimator-id-3\" class=\"sk-toggleable__label sk-toggleable__label-arrow\">LinearRegression</label><div class=\"sk-toggleable__content\"><pre>LinearRegression()</pre></div></div></div></div></div></div></div></div></div></div>"
     },
     "execution_count": 16,
     "metadata": {},
     "output_type": "execute_result"
    }
   ],
   "source": [
    "# Fit the model on the training data\n",
    "model.fit(X_train_norm, Y_train)"
   ]
  },
  {
   "cell_type": "code",
   "execution_count": 17,
   "id": "2ff7979c-9518-4f08-909d-6472505133fe",
   "metadata": {
    "ExecuteTime": {
     "end_time": "2025-02-17T05:01:04.283918Z",
     "start_time": "2025-02-17T05:01:04.281800Z"
    }
   },
   "outputs": [],
   "source": [
    "# Extract the trained base regressors from MultiOutputRegressor\n",
    "base_model = model.estimators_\n",
    "\n",
    "# Initialize lists to store coefficients and intercepts\n",
    "W = []  # Coefficients\n",
    "b = []  # Intercepts\n",
    "\n",
    "# Loop through each target's base regressor\n",
    "for regressor in base_model:\n",
    "    W.append(regressor.coef_)\n",
    "    b.append(regressor.intercept_)\n",
    "\n",
    "# Convert the lists to arrays\n",
    "W = np.array(W)\n",
    "b = np.array(b)"
   ]
  },
  {
   "cell_type": "code",
   "execution_count": 18,
   "id": "bed20ad0-9600-4070-b2d3-f46bcf68abdb",
   "metadata": {
    "ExecuteTime": {
     "end_time": "2025-02-17T05:01:05.479299Z",
     "start_time": "2025-02-17T05:01:05.425267Z"
    }
   },
   "outputs": [],
   "source": [
    "# Cost functions / Loss\n",
    "\n",
    "J_train = mse(Y_train, model.predict(X_train_norm)) / 2  # Loss on the training set\n",
    "Y_test_pred = model.predict(X_test_norm)\n",
    "J_test = mse(Y_test, Y_test_pred) / 2  # Loss on the test set\n",
    "score = model.score(X_test_norm, Y_test)  # R-squared score on training set"
   ]
  },
  {
   "cell_type": "code",
   "execution_count": 19,
   "id": "8d81d0b0-6ce1-47e2-95af-4173a86bd6ff",
   "metadata": {
    "ExecuteTime": {
     "end_time": "2025-02-17T05:01:06.948985Z",
     "start_time": "2025-02-17T05:01:06.946409Z"
    }
   },
   "outputs": [
    {
     "name": "stdout",
     "output_type": "stream",
     "text": [
      "The loss on the training set: 2.3578673958764e-05\n",
      "The loss on the test set: 2.3587944573780585e-05\n"
     ]
    }
   ],
   "source": [
    "print(f'The loss on the training set: {J_train}')\n",
    "print(f'The loss on the test set: {J_test}')"
   ]
  },
  {
   "cell_type": "code",
   "execution_count": 20,
   "id": "c76bc945-14d3-4dd8-8e46-6a33c2258fda",
   "metadata": {
    "ExecuteTime": {
     "end_time": "2025-02-17T05:01:09.128923Z",
     "start_time": "2025-02-17T05:01:09.029766Z"
    }
   },
   "outputs": [
    {
     "name": "stdout",
     "output_type": "stream",
     "text": [
      "Overall model score: 0.9999999999123419\n"
     ]
    }
   ],
   "source": [
    "model_score = model.score(X_test_norm, Y_test)\n",
    "print(f'Overall model score: {model_score}')"
   ]
  },
  {
   "cell_type": "code",
   "execution_count": 21,
   "id": "3550d29a-634c-4075-ad9a-a99071cb3d80",
   "metadata": {
    "ExecuteTime": {
     "end_time": "2025-02-17T05:01:15.233411Z",
     "start_time": "2025-02-17T05:01:15.229321Z"
    }
   },
   "outputs": [
    {
     "name": "stdout",
     "output_type": "stream",
     "text": [
      "Model score per estimator: 0.999999999999, 0.999999999825\n"
     ]
    }
   ],
   "source": [
    "#score per estimator\n",
    "scores = r2(Y_test, Y_test_pred, multioutput=\"raw_values\")\n",
    "formatted_scores = \", \".join([f\"{score:.12f}\" for score in scores])\n",
    "print(f'Model score per estimator: {formatted_scores}')"
   ]
  },
  {
   "cell_type": "code",
   "outputs": [
    {
     "name": "stdout",
     "output_type": "stream",
     "text": [
      "The model parameters when features are normalized: \n",
      "W:[[673.653716 -77.438719]\n",
      " [728.735651  49.282924]] \n",
      "b:\n",
      "[ 941.667937 1221.710895]\n"
     ]
    }
   ],
   "source": [
    "print(f'The model parameters when features are normalized: \\nW:{W} \\nb:\\n{b}')"
   ],
   "metadata": {
    "collapsed": false,
    "ExecuteTime": {
     "end_time": "2025-02-17T05:01:18.390466Z",
     "start_time": "2025-02-17T05:01:18.387970Z"
    }
   },
   "id": "a06f4670ac9025d3",
   "execution_count": 22
  },
  {
   "cell_type": "code",
   "outputs": [
    {
     "name": "stdout",
     "output_type": "stream",
     "text": [
      "The original weights: \n",
      "W:[[37.429882 -0.675983]\n",
      " [40.490371  0.430203]]\n"
     ]
    }
   ],
   "source": [
    "# Original scaler parameters\n",
    "mean = scaler.mean_  # Mean\n",
    "scale = scaler.scale_ # Std. deviation\n",
    "\n",
    "# Reverse transformation\n",
    "W_original = W / scale # Weights if the features were not scaled\n",
    "\n",
    "print(f\"The original weights: \\nW:{W_original}\")\n",
    "    "
   ],
   "metadata": {
    "collapsed": false,
    "ExecuteTime": {
     "end_time": "2025-02-17T05:01:19.422171Z",
     "start_time": "2025-02-17T05:01:19.420222Z"
    }
   },
   "id": "16e7f46699e08fa8",
   "execution_count": 23
  },
  {
   "cell_type": "markdown",
   "source": [],
   "metadata": {
    "collapsed": false
   },
   "id": "322409c4bd6a87ae"
  }
 ],
 "metadata": {
  "kernelspec": {
   "display_name": "Python 3 (ipykernel)",
   "language": "python",
   "name": "python3"
  },
  "language_info": {
   "codemirror_mode": {
    "name": "ipython",
    "version": 3
   },
   "file_extension": ".py",
   "mimetype": "text/x-python",
   "name": "python",
   "nbconvert_exporter": "python",
   "pygments_lexer": "ipython3",
   "version": "3.12.0"
  }
 },
 "nbformat": 4,
 "nbformat_minor": 5
}
